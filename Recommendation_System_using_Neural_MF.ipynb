{
 "cells": [
  {
   "cell_type": "code",
   "execution_count": 1,
   "metadata": {
    "_cell_guid": "b1076dfc-b9ad-4769-8c92-a6c4dae69d19",
    "_uuid": "8f2839f25d086af736a60e9eeb907d3b93b6e0e5",
    "execution": {
     "iopub.execute_input": "2024-12-19T07:15:01.012603Z",
     "iopub.status.busy": "2024-12-19T07:15:01.011961Z",
     "iopub.status.idle": "2024-12-19T07:15:01.028996Z",
     "shell.execute_reply": "2024-12-19T07:15:01.027769Z",
     "shell.execute_reply.started": "2024-12-19T07:15:01.012557Z"
    },
    "trusted": true
   },
   "outputs": [
    {
     "name": "stdout",
     "output_type": "stream",
     "text": [
      "/kaggle/input/data-dys/anonimyzed_data - Risposte del modulo 1.csv\n",
      "/kaggle/input/data-dys/italy.csv\n",
      "/kaggle/input/data-dys/anonimyzed_data - Module 1 answers.csv\n",
      "/kaggle/input/data-dys/anonimyzed_data - Risp_Pulite.csv\n",
      "/kaggle/input/data-dys/values.csv\n"
     ]
    }
   ],
   "source": [
    "# This Python 3 environment comes with many helpful analytics libraries installed\n",
    "# It is defined by the kaggle/python Docker image: https://github.com/kaggle/docker-python\n",
    "# For example, here's several helpful packages to load\n",
    "# Input data files are available in the read-only \"../input/\" directory\n",
    "# For example, running this (by clicking run or pressing Shift+Enter) will list all files under the input directory\n",
    "\n",
    "import os\n",
    "for dirname, _, filenames in os.walk('/kaggle/input'):\n",
    "    for filename in filenames:\n",
    "        print(os.path.join(dirname, filename))\n",
    "\n",
    "# You can write up to 20GB to the current directory (/kaggle/working/) that gets preserved as output when you create a version using \"Save & Run All\" \n",
    "# You can also write temporary files to /kaggle/temp/, but they won't be saved outside of the current session"
   ]
  },
  {
   "cell_type": "code",
   "execution_count": 2,
   "metadata": {
    "execution": {
     "iopub.execute_input": "2024-12-19T07:15:01.033270Z",
     "iopub.status.busy": "2024-12-19T07:15:01.033055Z",
     "iopub.status.idle": "2024-12-19T07:15:05.636853Z",
     "shell.execute_reply": "2024-12-19T07:15:05.636029Z",
     "shell.execute_reply.started": "2024-12-19T07:15:01.033249Z"
    },
    "trusted": true
   },
   "outputs": [],
   "source": [
    "import numpy as np \n",
    "import pandas as pd \n",
    "import torch.optim as optim\n",
    "import os\n",
    "import requests\n",
    "import zipfile\n",
    "import torch\n",
    "import random\n",
    "from sklearn.preprocessing import MinMaxScaler, LabelEncoder\n",
    "from sklearn.model_selection import train_test_split\n",
    "import torch\n",
    "import torch.nn as nn\n",
    "from torch.utils.data import Dataset, DataLoader, TensorDataset\n",
    "import matplotlib.pyplot as plt\n",
    "from sklearn.model_selection import ParameterGrid\n",
    "from sklearn.model_selection import KFold"
   ]
  },
  {
   "cell_type": "code",
   "execution_count": 3,
   "metadata": {
    "execution": {
     "iopub.execute_input": "2024-12-19T07:15:05.639010Z",
     "iopub.status.busy": "2024-12-19T07:15:05.638499Z",
     "iopub.status.idle": "2024-12-19T07:15:05.701108Z",
     "shell.execute_reply": "2024-12-19T07:15:05.700203Z",
     "shell.execute_reply.started": "2024-12-19T07:15:05.638972Z"
    },
    "trusted": true
   },
   "outputs": [
    {
     "name": "stdout",
     "output_type": "stream",
     "text": [
      "cuda\n"
     ]
    }
   ],
   "source": [
    "device = 'cuda' if torch.cuda.is_available() else 'cpu'\n",
    "print(device)\n",
    "\n",
    "def read_data():\n",
    "    df = pd.read_csv('Dataset\\values.csv') \n",
    "    df = df.stack().rename_axis(('User', 'Item')).reset_index(name='Score')\n",
    "    item_labels, item_original = pd.factorize(df['Item'])\n",
    "    df['Item'] = item_labels\n",
    "    df = df.sample(n=len(df))\n",
    "    df.replace(' ', 0, inplace=True)\n",
    "    df.replace('NC', 0, inplace=True)\n",
    "    df.replace('NSU', 0, inplace=True)\n",
    "    print(df.isnull().sum())\n",
    "    df['Score'] = df['Score'].astype(int)\n",
    "    df = df[df['Score'] != 0]\n",
    "    num_users = len(df.User.unique())\n",
    "    num_items = len(df.Item.unique()) \n",
    "    return df, num_users, num_items, item_original"
   ]
  },
  {
   "cell_type": "code",
   "execution_count": 4,
   "metadata": {
    "execution": {
     "iopub.execute_input": "2024-12-19T07:15:05.702480Z",
     "iopub.status.busy": "2024-12-19T07:15:05.702221Z",
     "iopub.status.idle": "2024-12-19T07:15:05.718592Z",
     "shell.execute_reply": "2024-12-19T07:15:05.717874Z",
     "shell.execute_reply.started": "2024-12-19T07:15:05.702455Z"
    },
    "trusted": true
   },
   "outputs": [],
   "source": [
    "def split_data(data, test_ratio): \n",
    "    train_data, test_data = train_test_split(data, test_size=test_ratio, random_state=42)\n",
    "    return train_data, test_data"
   ]
  },
  {
   "cell_type": "code",
   "execution_count": 5,
   "metadata": {
    "execution": {
     "iopub.execute_input": "2024-12-19T07:15:05.720633Z",
     "iopub.status.busy": "2024-12-19T07:15:05.720363Z",
     "iopub.status.idle": "2024-12-19T07:15:05.733066Z",
     "shell.execute_reply": "2024-12-19T07:15:05.732177Z",
     "shell.execute_reply.started": "2024-12-19T07:15:05.720609Z"
    },
    "trusted": true
   },
   "outputs": [],
   "source": [
    "def load_data(data, num_users, num_items, feedback='explicit'):\n",
    "    users, items, scores = [], [], []\n",
    "    inter = {}\n",
    "    for line in data.itertuples():\n",
    "        user_index, item_index = int(line[1]), int(line[2])\n",
    "        score = int(line[3]) if feedback == 'explicit' else 1\n",
    "        users.append(user_index)\n",
    "        items.append(item_index)\n",
    "        scores.append(score)\n",
    "        inter.setdefault(user_index, []).append(item_index) \n",
    "    return users, items, scores, inter"
   ]
  },
  {
   "cell_type": "code",
   "execution_count": 6,
   "metadata": {
    "execution": {
     "iopub.execute_input": "2024-12-19T07:15:05.734222Z",
     "iopub.status.busy": "2024-12-19T07:15:05.733988Z",
     "iopub.status.idle": "2024-12-19T07:15:05.744934Z",
     "shell.execute_reply": "2024-12-19T07:15:05.744194Z",
     "shell.execute_reply.started": "2024-12-19T07:15:05.734200Z"
    },
    "trusted": true
   },
   "outputs": [],
   "source": [
    "class PRDataset(Dataset):\n",
    "    def __init__(self, users, items, candidates, num_items):\n",
    "        self.users = users\n",
    "        self.items = items\n",
    "        self.cand = candidates\n",
    "        self.all = set([i for i in range(num_items)])\n",
    "\n",
    "    def __len__(self):\n",
    "        return len(self.users)\n",
    "\n",
    "    def __getitem__(self, idx):\n",
    "        neg_items = list(self.all - set(self.cand[int(self.users[idx])]))\n",
    "        indices = random.randint(0, len(neg_items) - 1)\n",
    "        return self.users[idx], self.items[idx], neg_items[indices]"
   ]
  },
  {
   "cell_type": "code",
   "execution_count": 7,
   "metadata": {
    "execution": {
     "iopub.execute_input": "2024-12-19T07:15:05.745922Z",
     "iopub.status.busy": "2024-12-19T07:15:05.745672Z",
     "iopub.status.idle": "2024-12-19T07:15:05.757558Z",
     "shell.execute_reply": "2024-12-19T07:15:05.756605Z",
     "shell.execute_reply.started": "2024-12-19T07:15:05.745900Z"
    },
    "trusted": true
   },
   "outputs": [],
   "source": [
    "class NeuMF(nn.Module):\n",
    "    def __init__(self, num_factors, num_users, num_items, nums_hiddens):\n",
    "        super(NeuMF, self).__init__()\n",
    "        self.P = nn.Embedding(num_users, num_factors)\n",
    "        self.Q = nn.Embedding(num_items, num_factors)  \n",
    "        self.U = nn.Embedding(num_users, num_factors)  \n",
    "        self.V = nn.Embedding(num_items, num_factors)  \n",
    "        mlp_layers = []\n",
    "        input_size = num_factors * 2 \n",
    "        for num_hiddens in nums_hiddens:\n",
    "            mlp_layers.append(nn.Linear(input_size, num_hiddens))\n",
    "            mlp_layers.append(nn.ReLU())\n",
    "            input_size = num_hiddens\n",
    "        mlp_layers.append(nn.Dropout(0.2))\n",
    "        self.mlp = nn.Sequential(*mlp_layers)\n",
    "        self.prediction_layer = nn.Linear(num_factors + nums_hiddens[-1], 1)\n",
    "        # self.sigmoid = nn.Sigmoid()\n",
    "        \n",
    "    def _init_weights(self):\n",
    "        nn.init.xavier_uniform_(self.P.weight)\n",
    "        nn.init.xavier_uniform_(self.Q.weight)\n",
    "        nn.init.xavier_uniform_(self.U.weight)\n",
    "        nn.init.xavier_uniform_(self.V.weight)\n",
    "        \n",
    "        for layer in self.mlp:\n",
    "            if isinstance(layer, nn.Linear):\n",
    "                nn.init.xavier_uniform_(layer.weight)\n",
    "                nn.init.zeros_(layer.bias)\n",
    "        nn.init.xavier_uniform_(self.prediction_layer.weight)\n",
    "        nn.init.zeros_(self.prediction_layer.bias)\n",
    "\n",
    "    def forward(self, user_id, item_id):\n",
    "        p_mf = self.P(user_id)\n",
    "        q_mf = self.Q(item_id)\n",
    "        gmf = p_mf * q_mf\n",
    "        p_mlp = self.U(user_id)\n",
    "        q_mlp = self.V(item_id)\n",
    "        mlp_input = torch.cat([p_mlp, q_mlp], dim=1)\n",
    "        mlp_output = self.mlp(mlp_input)\n",
    "        concat = torch.cat([gmf, mlp_output], dim=1)\n",
    "        prediction = self.prediction_layer(concat)\n",
    "        return prediction"
   ]
  },
  {
   "cell_type": "code",
   "execution_count": 8,
   "metadata": {
    "execution": {
     "iopub.execute_input": "2024-12-19T07:15:05.758563Z",
     "iopub.status.busy": "2024-12-19T07:15:05.758328Z",
     "iopub.status.idle": "2024-12-19T07:15:05.770598Z",
     "shell.execute_reply": "2024-12-19T07:15:05.769860Z",
     "shell.execute_reply.started": "2024-12-19T07:15:05.758541Z"
    },
    "trusted": true
   },
   "outputs": [],
   "source": [
    "def hit_and_auc(rankedlist, test_matrix, k):\n",
    "    hits_k = [(idx, val) for idx, val in enumerate(rankedlist[:k])\n",
    "              if val in set(test_matrix)]\n",
    "    hits_all = [(idx, val) for idx, val in enumerate(rankedlist)\n",
    "                if val in set(test_matrix)]\n",
    "    max = len(rankedlist) - 1\n",
    "    auc = 1.0 * (max - hits_all[0][0]) / max if len(hits_all) > 0 else 0\n",
    "    return len(hits_k) / k, auc"
   ]
  },
  {
   "cell_type": "code",
   "execution_count": 9,
   "metadata": {
    "execution": {
     "iopub.execute_input": "2024-12-19T07:15:05.771913Z",
     "iopub.status.busy": "2024-12-19T07:15:05.771592Z",
     "iopub.status.idle": "2024-12-19T07:15:05.786320Z",
     "shell.execute_reply": "2024-12-19T07:15:05.785485Z",
     "shell.execute_reply.started": "2024-12-19T07:15:05.771876Z"
    },
    "trusted": true
   },
   "outputs": [],
   "source": [
    "def evaluate_ranking(net, test_input, seq, candidates, num_users, num_items, device, batch_size, top_k=5):\n",
    "    ranked_list, ranked_items, hit_rate, auc = {}, {}, [], []\n",
    "    all_items = set([i for i in range(num_items)])\n",
    "    for u in range(num_users):\n",
    "        neg_items = list(all_items - set(candidates[int(u)]))    \n",
    "        user_ids = [u] * len(neg_items)\n",
    "        item_ids = neg_items\n",
    "        x = [torch.tensor(user_ids, device=device), torch.tensor(item_ids, device=device)]\n",
    "        if seq is not None:\n",
    "            x.append(seq[user_ids, :].to(device))\n",
    "        test_data_iter = torch.utils.data.DataLoader(\n",
    "            dataset=list(zip(*x)), batch_size=batch_size, shuffle=False\n",
    "        )\n",
    "        scores = []\n",
    "        for batch in test_data_iter:\n",
    "            user_batch, item_batch = batch[0].to(device), batch[1].to(device)\n",
    "            if seq is not None:\n",
    "                seq_batch = batch[2].to(device)\n",
    "                batch_scores = net(user_batch, item_batch, seq_batch).cpu().detach().numpy()\n",
    "            else:\n",
    "                batch_scores = net(user_batch, item_batch).cpu().detach().numpy()\n",
    "            scores.extend(batch_scores)\n",
    "        item_scores = list(zip(item_ids, scores))\n",
    "        ranked_list[u] = sorted(item_scores, key=lambda t: t[1], reverse=True)\n",
    "        ranked_items[u] = [r[0] for r in ranked_list[u]]\n",
    "        if u not in test_input: \n",
    "            continue\n",
    "        hit, auc_val = hit_and_auc(ranked_items[u], test_input[u], top_k)\n",
    "        hit_rate.append(hit)\n",
    "        auc.append(auc_val)\n",
    "    \n",
    "    return np.mean(np.array(hit_rate)), np.mean(np.array(auc))"
   ]
  },
  {
   "cell_type": "code",
   "execution_count": 10,
   "metadata": {
    "execution": {
     "iopub.execute_input": "2024-12-19T07:15:05.788014Z",
     "iopub.status.busy": "2024-12-19T07:15:05.787398Z",
     "iopub.status.idle": "2024-12-19T07:15:05.863496Z",
     "shell.execute_reply": "2024-12-19T07:15:05.862735Z",
     "shell.execute_reply.started": "2024-12-19T07:15:05.787988Z"
    },
    "trusted": true
   },
   "outputs": [],
   "source": [
    "from tqdm.auto import tqdm\n",
    "def train_ranking(net, train_iter, test_iter, loss_fn, optimizer, test_seq_iter, num_users, num_items, num_epochs, device, evaluator, \n",
    "                  candidates, batch_size, top_k, eval_step=1):\n",
    "    loss_l, hit_l, auc_l = [], [], []\n",
    "    for epoch in tqdm(range(num_epochs)):\n",
    "        total_loss, num_examples, num_batches = 0.0, 0, 0\n",
    "        net.train()\n",
    "        for i, values in enumerate(train_iter):\n",
    "            input_data = [v.to(device) for v in values]\n",
    "            optimizer.zero_grad() \n",
    "            p_pos = net(input_data[0], input_data[1]) \n",
    "            p_neg = net(input_data[0], input_data[2])   \n",
    "            loss = loss_fn(p_pos, p_neg)\n",
    "            loss.backward()\n",
    "            optimizer.step()\n",
    "            total_loss += loss.item() * input_data[0].size(0)\n",
    "            num_examples += input_data[0].size(0)\n",
    "            num_batches += 1\n",
    "        # scheduler.step()\n",
    "            \n",
    "        if (epoch + 1) % eval_step == 0:\n",
    "            net.eval() \n",
    "            with torch.no_grad():\n",
    "                hit_rate, auc = evaluate_ranking(net, test_iter, test_seq_iter, candidates, num_users, num_items, device, batch_size, top_k)\n",
    "            print(f'Epoch {epoch + 1}, Hit Rate: {hit_rate:.3f}, AUC: {auc:.3f}', end = ' ')\n",
    "            hit_l.append(hit_rate)\n",
    "            auc_l.append(auc)\n",
    "        \n",
    "        avg_loss = total_loss / num_examples\n",
    "        print(f'Training Loss: {avg_loss:.3f}', end='\\n')\n",
    "        loss_l.append(avg_loss)\n",
    "        \n",
    "    return hit_l, auc_l, loss_l"
   ]
  },
  {
   "cell_type": "code",
   "execution_count": 11,
   "metadata": {
    "execution": {
     "iopub.execute_input": "2024-12-19T07:15:05.866340Z",
     "iopub.status.busy": "2024-12-19T07:15:05.866076Z",
     "iopub.status.idle": "2024-12-19T07:15:05.871861Z",
     "shell.execute_reply": "2024-12-19T07:15:05.871058Z",
     "shell.execute_reply.started": "2024-12-19T07:15:05.866315Z"
    },
    "trusted": true
   },
   "outputs": [],
   "source": [
    "def k_fold_cross_validation(X, y, k=5):\n",
    "   kfold = KFold(n_splits=k, shuffle=True, random_state=42)\n",
    "   fold_results = []\n",
    "   for fold, (train_ids, val_ids) in enumerate(kfold.split(dataset), 1):\n",
    "       print(f\"FOLD {fold}\")\n",
    "       \n",
    "       train_sampler = SubsetRandomSampler(train_ids)\n",
    "       val_sampler = SubsetRandomSampler(val_ids)\n",
    "       \n",
    "       train_loader = DataLoader(dataset, batch_size=32, sampler=train_sampler)\n",
    "       val_loader = DataLoader(dataset, batch_size=32, sampler=val_sampler)\n",
    "       \n",
    "       model = YourModel()\n",
    "       criterion = nn.MSELoss()\n",
    "       optimizer = optim.Adam(model.parameters(), lr=0.01)\n",
    "       \n",
    "       train_fold(model, train_loader, val_loader, criterion, optimizer)\n",
    "       \n",
    "       fold_results.append({\n",
    "           'fold': fold,\n",
    "       })\n",
    "   \n",
    "   return fold_results"
   ]
  },
  {
   "cell_type": "code",
   "execution_count": 12,
   "metadata": {
    "execution": {
     "iopub.execute_input": "2024-12-19T07:15:05.872929Z",
     "iopub.status.busy": "2024-12-19T07:15:05.872656Z",
     "iopub.status.idle": "2024-12-19T07:16:47.848377Z",
     "shell.execute_reply": "2024-12-19T07:16:47.847447Z",
     "shell.execute_reply.started": "2024-12-19T07:15:05.872907Z"
    },
    "trusted": true
   },
   "outputs": [
    {
     "name": "stdout",
     "output_type": "stream",
     "text": [
      "User     0\n",
      "Item     0\n",
      "Score    0\n",
      "dtype: int64\n",
      "NeuMF(\n",
      "  (P): Embedding(1216, 2048)\n",
      "  (Q): Embedding(51, 2048)\n",
      "  (U): Embedding(1216, 2048)\n",
      "  (V): Embedding(51, 2048)\n",
      "  (mlp): Sequential(\n",
      "    (0): Linear(in_features=4096, out_features=2048, bias=True)\n",
      "    (1): ReLU()\n",
      "    (2): Linear(in_features=2048, out_features=1024, bias=True)\n",
      "    (3): ReLU()\n",
      "    (4): Linear(in_features=1024, out_features=512, bias=True)\n",
      "    (5): ReLU()\n",
      "    (6): Linear(in_features=512, out_features=256, bias=True)\n",
      "    (7): ReLU()\n",
      "    (8): Linear(in_features=256, out_features=128, bias=True)\n",
      "    (9): ReLU()\n",
      "    (10): Linear(in_features=128, out_features=64, bias=True)\n",
      "    (11): ReLU()\n",
      "    (12): Linear(in_features=64, out_features=32, bias=True)\n",
      "    (13): ReLU()\n",
      "    (14): Linear(in_features=32, out_features=16, bias=True)\n",
      "    (15): ReLU()\n",
      "    (16): Dropout(p=0.2, inplace=False)\n",
      "  )\n",
      "  (prediction_layer): Linear(in_features=2064, out_features=1, bias=True)\n",
      ")\n"
     ]
    },
    {
     "data": {
      "application/vnd.jupyter.widget-view+json": {
       "model_id": "b035b736dec84ee682116d538781b851",
       "version_major": 2,
       "version_minor": 0
      },
      "text/plain": [
       "  0%|          | 0/30 [00:00<?, ?it/s]"
      ]
     },
     "metadata": {},
     "output_type": "display_data"
    },
    {
     "name": "stdout",
     "output_type": "stream",
     "text": [
      "Epoch 1, Hit Rate: 0.659, AUC: 0.962 Training Loss: 0.729\n",
      "Epoch 2, Hit Rate: 0.660, AUC: 0.962 Training Loss: 0.664\n",
      "Epoch 3, Hit Rate: 0.665, AUC: 0.962 Training Loss: 0.620\n",
      "Epoch 4, Hit Rate: 0.667, AUC: 0.964 Training Loss: 0.577\n",
      "Epoch 5, Hit Rate: 0.669, AUC: 0.965 Training Loss: 0.521\n",
      "Epoch 6, Hit Rate: 0.686, AUC: 0.968 Training Loss: 0.462\n",
      "Epoch 7, Hit Rate: 0.706, AUC: 0.972 Training Loss: 0.404\n",
      "Epoch 8, Hit Rate: 0.728, AUC: 0.976 Training Loss: 0.356\n",
      "Epoch 9, Hit Rate: 0.748, AUC: 0.978 Training Loss: 0.316\n",
      "Epoch 10, Hit Rate: 0.760, AUC: 0.981 Training Loss: 0.287\n",
      "Epoch 11, Hit Rate: 0.775, AUC: 0.982 Training Loss: 0.266\n",
      "Epoch 12, Hit Rate: 0.788, AUC: 0.984 Training Loss: 0.246\n",
      "Epoch 13, Hit Rate: 0.798, AUC: 0.986 Training Loss: 0.229\n",
      "Epoch 14, Hit Rate: 0.795, AUC: 0.986 Training Loss: 0.212\n",
      "Epoch 15, Hit Rate: 0.800, AUC: 0.986 Training Loss: 0.194\n",
      "Epoch 16, Hit Rate: 0.801, AUC: 0.984 Training Loss: 0.177\n",
      "Epoch 17, Hit Rate: 0.802, AUC: 0.985 Training Loss: 0.158\n",
      "Epoch 18, Hit Rate: 0.794, AUC: 0.985 Training Loss: 0.142\n",
      "Epoch 19, Hit Rate: 0.787, AUC: 0.985 Training Loss: 0.128\n",
      "Epoch 20, Hit Rate: 0.788, AUC: 0.985 Training Loss: 0.114\n",
      "Epoch 21, Hit Rate: 0.790, AUC: 0.985 Training Loss: 0.103\n",
      "Epoch 22, Hit Rate: 0.787, AUC: 0.984 Training Loss: 0.093\n",
      "Epoch 23, Hit Rate: 0.780, AUC: 0.983 Training Loss: 0.085\n",
      "Epoch 24, Hit Rate: 0.779, AUC: 0.983 Training Loss: 0.077\n",
      "Epoch 25, Hit Rate: 0.780, AUC: 0.983 Training Loss: 0.072\n",
      "Epoch 26, Hit Rate: 0.779, AUC: 0.983 Training Loss: 0.067\n",
      "Epoch 27, Hit Rate: 0.777, AUC: 0.984 Training Loss: 0.063\n",
      "Epoch 28, Hit Rate: 0.778, AUC: 0.982 Training Loss: 0.059\n",
      "Epoch 29, Hit Rate: 0.782, AUC: 0.983 Training Loss: 0.056\n",
      "Epoch 30, Hit Rate: 0.778, AUC: 0.982 Training Loss: 0.053\n"
     ]
    },
    {
     "data": {
      "text/plain": [
       "<matplotlib.legend.Legend at 0x783fb5de2f20>"
      ]
     },
     "execution_count": 12,
     "metadata": {},
     "output_type": "execute_result"
    },
    {
     "data": {
      "image/png": "[encoded data removed]",
      "text/plain": [
       "<Figure size 640x480 with 1 Axes>"
      ]
     },
     "metadata": {},
     "output_type": "display_data"
    }
   ],
   "source": [
    "batch_size = 1024\n",
    "df, num_users, num_items, item_original = read_data()\n",
    "train_data, test_data = split_data(df, 0.25)\n",
    "users_train, items_train, ratings_train, candidates = load_data(train_data, num_users, num_items, feedback=\"explicit\")\n",
    "users_test, items_test, ratings_test, test_iter = load_data(test_data, num_users, num_items, feedback=\"explicit\")\n",
    "train_dataset = PRDataset(users_train, items_train, candidates, num_items)\n",
    "train_iter = DataLoader(\n",
    "    train_dataset, \n",
    "    batch_size=batch_size, \n",
    "    shuffle=True, \n",
    "    num_workers=os.cpu_count(), \n",
    ")\n",
    "\n",
    "net = NeuMF(num_factors= 2048, num_users=num_users, num_items=num_items, nums_hiddens=[2048, 1024, 512, 256, 128, 64, 32, 16])\n",
    "print(net)\n",
    "net = net.to(device)\n",
    "\n",
    "lr = 5e-3\n",
    "num_epochs = 30\n",
    "weight_decay = 1e-4 #5e-5\n",
    "optimizer = optim.Adam(net.parameters(), lr=lr, weight_decay=weight_decay)\n",
    "scheduler = optim.lr_scheduler.StepLR(optimizer, step_size=10, gamma=0.1)\n",
    "\n",
    "class BPRLoss(nn.Module):\n",
    "    def __init__(self):\n",
    "        super(BPRLoss, self).__init__()\n",
    "\n",
    "    def forward(self, pos_preds, neg_preds):\n",
    "        return -torch.mean(torch.log(torch.sigmoid(pos_preds - neg_preds)))\n",
    "\n",
    "loss_fn = BPRLoss()\n",
    "\n",
    "top_k = 5\n",
    "hit, auc, loss = train_ranking(\n",
    "    net=net,\n",
    "    train_iter=train_iter,\n",
    "    test_iter=test_iter,\n",
    "    loss_fn=loss_fn,\n",
    "    optimizer=optimizer,\n",
    "    test_seq_iter=None,\n",
    "    num_users=num_users,\n",
    "    num_items=num_items,\n",
    "    num_epochs=num_epochs,\n",
    "    device=device,\n",
    "    candidates=candidates,\n",
    "    batch_size=batch_size,\n",
    "    top_k=top_k,\n",
    "    evaluator=evaluate_ranking,\n",
    ")\n",
    "\n",
    "plt.plot(hit)\n",
    "plt.plot(auc, '--')\n",
    "plt.ylabel('loss')\n",
    "plt.xlabel('epoch')\n",
    "plt.title(f'NeuMF with Hit Rate: {hit[-1]:.4f}, AUC: {auc[-1]:.4f}')\n",
    "plt.legend(['Hit Rate', 'AUC'])"
   ]
  },
  {
   "cell_type": "code",
   "execution_count": 13,
   "metadata": {
    "execution": {
     "iopub.execute_input": "2024-12-19T07:16:47.850826Z",
     "iopub.status.busy": "2024-12-19T07:16:47.849962Z",
     "iopub.status.idle": "2024-12-19T07:16:47.855357Z",
     "shell.execute_reply": "2024-12-19T07:16:47.854493Z",
     "shell.execute_reply.started": "2024-12-19T07:16:47.850784Z"
    },
    "trusted": true
   },
   "outputs": [
    {
     "name": "stdout",
     "output_type": "stream",
     "text": [
      "Hit Rate@5 is 0.778 AUC is 0.982\n"
     ]
    }
   ],
   "source": [
    "print(f'Hit Rate@{top_k} is {hit[-1]:.3f} AUC is {auc[-1]:.3f}')"
   ]
  },
  {
   "cell_type": "code",
   "execution_count": 14,
   "metadata": {
    "execution": {
     "iopub.execute_input": "2024-12-19T07:16:47.856782Z",
     "iopub.status.busy": "2024-12-19T07:16:47.856474Z",
     "iopub.status.idle": "2024-12-19T07:16:47.872009Z",
     "shell.execute_reply": "2024-12-19T07:16:47.871164Z",
     "shell.execute_reply.started": "2024-12-19T07:16:47.856756Z"
    },
    "trusted": true
   },
   "outputs": [
    {
     "name": "stdout",
     "output_type": "stream",
     "text": [
      "Random User: 100\n",
      "Number of candidates: 26\n",
      "User 100's Top-5 Recommendations (Original Labels):\n",
      "Rank 1: Item P3 with score 0.0503\n",
      "Rank 2: Item T7 with score -0.4118\n",
      "Rank 3: Item P5 with score -0.7102\n",
      "Rank 4: Item T15 with score -0.7236\n",
      "Rank 5: Item S2 with score -1.0723\n"
     ]
    },
    {
     "name": "stderr",
     "output_type": "stream",
     "text": [
      "/tmp/ipykernel_30/3535292676.py:25: DeprecationWarning: Conversion of an array with ndim > 0 to a scalar is deprecated, and will error in future. Ensure you extract a single element from your array before performing this operation. (Deprecated NumPy 1.25.)\n",
      "  print(f\"Rank {rank}: Item {original_label} with score {float(score):.4f}\")\n"
     ]
    }
   ],
   "source": [
    "def show_random_prediction(user, net, test_data, num_users, num_items, candidates, top_k, device):\n",
    "    net.eval()\n",
    "    random_user = user \n",
    "    print(f\"Random User: {random_user}\")\n",
    "    user_candidates = list(set(range(num_items)) - set(candidates[random_user]))\n",
    "    if len(user_candidates) == 0:\n",
    "        print(\"No candidates available for this user.\")\n",
    "        return\n",
    "        \n",
    "    print(f\"Number of candidates: {len(user_candidates)}\")\n",
    "    user_ids = [random_user] * len(user_candidates)\n",
    "    item_ids = user_candidates\n",
    "    try:\n",
    "        user_tensor = torch.tensor(user_ids, device=device)\n",
    "        item_tensor = torch.tensor(item_ids, device=device)\n",
    "    except Exception as e:\n",
    "        print(f\"Error constructing tensors: {e}\")\n",
    "        return\n",
    "    with torch.no_grad():\n",
    "        scores = net(user_tensor, item_tensor).cpu().numpy()\n",
    "    ranked_items = sorted(zip(user_candidates, scores), key=lambda x: x[1], reverse=True)\n",
    "    print(f\"User {random_user}'s Top-{top_k} Recommendations (Original Labels):\")\n",
    "    for rank, (item, score) in enumerate(ranked_items[:top_k], start=1):\n",
    "        original_label = item_original[item]\n",
    "        print(f\"Rank {rank}: Item {original_label} with score {float(score):.4f}\")\n",
    "\n",
    "        \n",
    "show_random_prediction(\n",
    "    user=100,\n",
    "    net=net,\n",
    "    test_data=test_data,\n",
    "    num_users=num_users,\n",
    "    num_items=num_items,\n",
    "    candidates=candidates,\n",
    "    top_k=top_k,\n",
    "    device=device\n",
    ")"
   ]
  },
  {
   "cell_type": "code",
   "execution_count": 15,
   "metadata": {
    "execution": {
     "iopub.execute_input": "2024-12-19T07:16:47.874064Z",
     "iopub.status.busy": "2024-12-19T07:16:47.873609Z",
     "iopub.status.idle": "2024-12-19T07:23:55.660007Z",
     "shell.execute_reply": "2024-12-19T07:23:55.659027Z",
     "shell.execute_reply.started": "2024-12-19T07:16:47.874015Z"
    },
    "trusted": true
   },
   "outputs": [
    {
     "name": "stdout",
     "output_type": "stream",
     "text": [
      "User     0\n",
      "Item     0\n",
      "Score    0\n",
      "dtype: int64\n",
      "FOLD 1\n"
     ]
    },
    {
     "data": {
      "application/vnd.jupyter.widget-view+json": {
       "model_id": "11ec21a088f1452f976ce68f581ea8e6",
       "version_major": 2,
       "version_minor": 0
      },
      "text/plain": [
       "  0%|          | 0/30 [00:00<?, ?it/s]"
      ]
     },
     "metadata": {},
     "output_type": "display_data"
    },
    {
     "name": "stdout",
     "output_type": "stream",
     "text": [
      "Epoch 1, Hit Rate: 0.661, AUC: 0.962 Training Loss: 0.730\n",
      "Epoch 2, Hit Rate: 0.668, AUC: 0.963 Training Loss: 0.665\n",
      "Epoch 3, Hit Rate: 0.667, AUC: 0.964 Training Loss: 0.624\n",
      "Epoch 4, Hit Rate: 0.671, AUC: 0.965 Training Loss: 0.582\n",
      "Epoch 5, Hit Rate: 0.676, AUC: 0.966 Training Loss: 0.525\n",
      "Epoch 6, Hit Rate: 0.690, AUC: 0.968 Training Loss: 0.466\n",
      "Epoch 7, Hit Rate: 0.704, AUC: 0.971 Training Loss: 0.408\n",
      "Epoch 8, Hit Rate: 0.731, AUC: 0.974 Training Loss: 0.356\n",
      "Epoch 9, Hit Rate: 0.750, AUC: 0.977 Training Loss: 0.317\n",
      "Epoch 10, Hit Rate: 0.760, AUC: 0.978 Training Loss: 0.288\n",
      "Epoch 11, Hit Rate: 0.772, AUC: 0.981 Training Loss: 0.265\n",
      "Epoch 12, Hit Rate: 0.787, AUC: 0.981 Training Loss: 0.247\n",
      "Epoch 13, Hit Rate: 0.793, AUC: 0.984 Training Loss: 0.229\n",
      "Epoch 14, Hit Rate: 0.795, AUC: 0.985 Training Loss: 0.212\n",
      "Epoch 15, Hit Rate: 0.792, AUC: 0.984 Training Loss: 0.194\n",
      "Epoch 16, Hit Rate: 0.793, AUC: 0.983 Training Loss: 0.176\n",
      "Epoch 17, Hit Rate: 0.789, AUC: 0.983 Training Loss: 0.158\n",
      "Epoch 18, Hit Rate: 0.786, AUC: 0.983 Training Loss: 0.142\n",
      "Epoch 19, Hit Rate: 0.783, AUC: 0.983 Training Loss: 0.128\n",
      "Epoch 20, Hit Rate: 0.779, AUC: 0.982 Training Loss: 0.113\n",
      "Epoch 21, Hit Rate: 0.780, AUC: 0.981 Training Loss: 0.103\n",
      "Epoch 22, Hit Rate: 0.772, AUC: 0.982 Training Loss: 0.093\n",
      "Epoch 23, Hit Rate: 0.773, AUC: 0.980 Training Loss: 0.085\n",
      "Epoch 24, Hit Rate: 0.777, AUC: 0.981 Training Loss: 0.078\n",
      "Epoch 25, Hit Rate: 0.769, AUC: 0.982 Training Loss: 0.073\n",
      "Epoch 26, Hit Rate: 0.777, AUC: 0.983 Training Loss: 0.068\n",
      "Epoch 27, Hit Rate: 0.780, AUC: 0.982 Training Loss: 0.064\n",
      "Epoch 28, Hit Rate: 0.780, AUC: 0.983 Training Loss: 0.060\n",
      "Epoch 29, Hit Rate: 0.778, AUC: 0.982 Training Loss: 0.057\n",
      "Epoch 30, Hit Rate: 0.770, AUC: 0.984 Training Loss: 0.055\n",
      "FOLD 2\n"
     ]
    },
    {
     "data": {
      "application/vnd.jupyter.widget-view+json": {
       "model_id": "c8600a248d0846279f6628e2e7cbdc28",
       "version_major": 2,
       "version_minor": 0
      },
      "text/plain": [
       "  0%|          | 0/30 [00:00<?, ?it/s]"
      ]
     },
     "metadata": {},
     "output_type": "display_data"
    },
    {
     "name": "stdout",
     "output_type": "stream",
     "text": [
      "Epoch 1, Hit Rate: 0.663, AUC: 0.963 Training Loss: 0.732\n",
      "Epoch 2, Hit Rate: 0.664, AUC: 0.964 Training Loss: 0.662\n",
      "Epoch 3, Hit Rate: 0.669, AUC: 0.966 Training Loss: 0.622\n",
      "Epoch 4, Hit Rate: 0.675, AUC: 0.964 Training Loss: 0.576\n",
      "Epoch 5, Hit Rate: 0.677, AUC: 0.966 Training Loss: 0.525\n",
      "Epoch 6, Hit Rate: 0.692, AUC: 0.968 Training Loss: 0.466\n",
      "Epoch 7, Hit Rate: 0.710, AUC: 0.970 Training Loss: 0.410\n",
      "Epoch 8, Hit Rate: 0.731, AUC: 0.975 Training Loss: 0.360\n",
      "Epoch 9, Hit Rate: 0.742, AUC: 0.975 Training Loss: 0.320\n",
      "Epoch 10, Hit Rate: 0.764, AUC: 0.978 Training Loss: 0.290\n",
      "Epoch 11, Hit Rate: 0.775, AUC: 0.980 Training Loss: 0.267\n",
      "Epoch 12, Hit Rate: 0.791, AUC: 0.983 Training Loss: 0.247\n",
      "Epoch 13, Hit Rate: 0.799, AUC: 0.983 Training Loss: 0.228\n",
      "Epoch 14, Hit Rate: 0.797, AUC: 0.983 Training Loss: 0.210\n",
      "Epoch 15, Hit Rate: 0.805, AUC: 0.985 Training Loss: 0.190\n",
      "Epoch 16, Hit Rate: 0.798, AUC: 0.985 Training Loss: 0.173\n",
      "Epoch 17, Hit Rate: 0.798, AUC: 0.983 Training Loss: 0.155\n",
      "Epoch 18, Hit Rate: 0.799, AUC: 0.986 Training Loss: 0.138\n",
      "Epoch 19, Hit Rate: 0.797, AUC: 0.985 Training Loss: 0.123\n",
      "Epoch 20, Hit Rate: 0.794, AUC: 0.985 Training Loss: 0.111\n",
      "Epoch 21, Hit Rate: 0.787, AUC: 0.985 Training Loss: 0.100\n",
      "Epoch 22, Hit Rate: 0.794, AUC: 0.983 Training Loss: 0.091\n",
      "Epoch 23, Hit Rate: 0.787, AUC: 0.984 Training Loss: 0.082\n",
      "Epoch 24, Hit Rate: 0.783, AUC: 0.984 Training Loss: 0.076\n",
      "Epoch 25, Hit Rate: 0.773, AUC: 0.983 Training Loss: 0.071\n",
      "Epoch 26, Hit Rate: 0.774, AUC: 0.983 Training Loss: 0.065\n",
      "Epoch 27, Hit Rate: 0.771, AUC: 0.982 Training Loss: 0.061\n",
      "Epoch 28, Hit Rate: 0.774, AUC: 0.981 Training Loss: 0.058\n",
      "Epoch 29, Hit Rate: 0.775, AUC: 0.982 Training Loss: 0.055\n",
      "Epoch 30, Hit Rate: 0.772, AUC: 0.983 Training Loss: 0.053\n",
      "FOLD 3\n"
     ]
    },
    {
     "data": {
      "application/vnd.jupyter.widget-view+json": {
       "model_id": "ba44a3948a52494d868e18e310a38dd0",
       "version_major": 2,
       "version_minor": 0
      },
      "text/plain": [
       "  0%|          | 0/30 [00:00<?, ?it/s]"
      ]
     },
     "metadata": {},
     "output_type": "display_data"
    },
    {
     "name": "stdout",
     "output_type": "stream",
     "text": [
      "Epoch 1, Hit Rate: 0.664, AUC: 0.965 Training Loss: 0.731\n",
      "Epoch 2, Hit Rate: 0.655, AUC: 0.963 Training Loss: 0.665\n",
      "Epoch 3, Hit Rate: 0.664, AUC: 0.963 Training Loss: 0.624\n",
      "Epoch 4, Hit Rate: 0.667, AUC: 0.962 Training Loss: 0.580\n",
      "Epoch 5, Hit Rate: 0.673, AUC: 0.966 Training Loss: 0.523\n",
      "Epoch 6, Hit Rate: 0.679, AUC: 0.968 Training Loss: 0.467\n",
      "Epoch 7, Hit Rate: 0.701, AUC: 0.973 Training Loss: 0.408\n",
      "Epoch 8, Hit Rate: 0.718, AUC: 0.974 Training Loss: 0.358\n",
      "Epoch 9, Hit Rate: 0.743, AUC: 0.978 Training Loss: 0.319\n",
      "Epoch 10, Hit Rate: 0.768, AUC: 0.980 Training Loss: 0.288\n",
      "Epoch 11, Hit Rate: 0.775, AUC: 0.982 Training Loss: 0.265\n",
      "Epoch 12, Hit Rate: 0.792, AUC: 0.984 Training Loss: 0.245\n",
      "Epoch 13, Hit Rate: 0.789, AUC: 0.984 Training Loss: 0.227\n",
      "Epoch 14, Hit Rate: 0.794, AUC: 0.984 Training Loss: 0.207\n",
      "Epoch 15, Hit Rate: 0.785, AUC: 0.985 Training Loss: 0.189\n",
      "Epoch 16, Hit Rate: 0.786, AUC: 0.982 Training Loss: 0.171\n",
      "Epoch 17, Hit Rate: 0.789, AUC: 0.982 Training Loss: 0.152\n",
      "Epoch 18, Hit Rate: 0.788, AUC: 0.984 Training Loss: 0.137\n",
      "Epoch 19, Hit Rate: 0.781, AUC: 0.981 Training Loss: 0.122\n",
      "Epoch 20, Hit Rate: 0.782, AUC: 0.981 Training Loss: 0.109\n",
      "Epoch 21, Hit Rate: 0.779, AUC: 0.981 Training Loss: 0.099\n",
      "Epoch 22, Hit Rate: 0.780, AUC: 0.980 Training Loss: 0.089\n",
      "Epoch 23, Hit Rate: 0.778, AUC: 0.981 Training Loss: 0.082\n",
      "Epoch 24, Hit Rate: 0.774, AUC: 0.981 Training Loss: 0.075\n",
      "Epoch 25, Hit Rate: 0.774, AUC: 0.982 Training Loss: 0.071\n",
      "Epoch 26, Hit Rate: 0.775, AUC: 0.981 Training Loss: 0.066\n",
      "Epoch 27, Hit Rate: 0.777, AUC: 0.983 Training Loss: 0.062\n",
      "Epoch 28, Hit Rate: 0.783, AUC: 0.985 Training Loss: 0.059\n",
      "Epoch 29, Hit Rate: 0.776, AUC: 0.983 Training Loss: 0.056\n",
      "Epoch 30, Hit Rate: 0.774, AUC: 0.982 Training Loss: 0.054\n",
      "FOLD 4\n"
     ]
    },
    {
     "data": {
      "application/vnd.jupyter.widget-view+json": {
       "model_id": "44992b27f6a44878afecbf0b759ef3a6",
       "version_major": 2,
       "version_minor": 0
      },
      "text/plain": [
       "  0%|          | 0/30 [00:00<?, ?it/s]"
      ]
     },
     "metadata": {},
     "output_type": "display_data"
    },
    {
     "name": "stdout",
     "output_type": "stream",
     "text": [
      "Epoch 1, Hit Rate: 0.659, AUC: 0.963 Training Loss: 0.731\n",
      "Epoch 2, Hit Rate: 0.659, AUC: 0.963 Training Loss: 0.664\n",
      "Epoch 3, Hit Rate: 0.657, AUC: 0.962 Training Loss: 0.627\n",
      "Epoch 4, Hit Rate: 0.661, AUC: 0.963 Training Loss: 0.580\n",
      "Epoch 5, Hit Rate: 0.676, AUC: 0.964 Training Loss: 0.523\n",
      "Epoch 6, Hit Rate: 0.690, AUC: 0.970 Training Loss: 0.465\n",
      "Epoch 7, Hit Rate: 0.711, AUC: 0.972 Training Loss: 0.406\n",
      "Epoch 8, Hit Rate: 0.737, AUC: 0.975 Training Loss: 0.356\n",
      "Epoch 9, Hit Rate: 0.753, AUC: 0.978 Training Loss: 0.318\n",
      "Epoch 10, Hit Rate: 0.772, AUC: 0.979 Training Loss: 0.289\n",
      "Epoch 11, Hit Rate: 0.786, AUC: 0.983 Training Loss: 0.265\n",
      "Epoch 12, Hit Rate: 0.796, AUC: 0.983 Training Loss: 0.246\n",
      "Epoch 13, Hit Rate: 0.797, AUC: 0.985 Training Loss: 0.229\n",
      "Epoch 14, Hit Rate: 0.804, AUC: 0.986 Training Loss: 0.211\n",
      "Epoch 15, Hit Rate: 0.802, AUC: 0.985 Training Loss: 0.192\n",
      "Epoch 16, Hit Rate: 0.804, AUC: 0.987 Training Loss: 0.173\n",
      "Epoch 17, Hit Rate: 0.800, AUC: 0.985 Training Loss: 0.155\n",
      "Epoch 18, Hit Rate: 0.801, AUC: 0.984 Training Loss: 0.139\n",
      "Epoch 19, Hit Rate: 0.799, AUC: 0.985 Training Loss: 0.124\n",
      "Epoch 20, Hit Rate: 0.796, AUC: 0.986 Training Loss: 0.111\n",
      "Epoch 21, Hit Rate: 0.790, AUC: 0.984 Training Loss: 0.100\n",
      "Epoch 22, Hit Rate: 0.788, AUC: 0.983 Training Loss: 0.090\n",
      "Epoch 23, Hit Rate: 0.788, AUC: 0.986 Training Loss: 0.083\n",
      "Epoch 24, Hit Rate: 0.783, AUC: 0.984 Training Loss: 0.076\n",
      "Epoch 25, Hit Rate: 0.788, AUC: 0.985 Training Loss: 0.071\n",
      "Epoch 26, Hit Rate: 0.787, AUC: 0.984 Training Loss: 0.066\n",
      "Epoch 27, Hit Rate: 0.780, AUC: 0.985 Training Loss: 0.062\n",
      "Epoch 28, Hit Rate: 0.774, AUC: 0.983 Training Loss: 0.059\n",
      "Epoch 29, Hit Rate: 0.778, AUC: 0.983 Training Loss: 0.056\n",
      "Epoch 30, Hit Rate: 0.785, AUC: 0.984 Training Loss: 0.053\n"
     ]
    },
    {
     "data": {
      "image/png": "[encoded data removed]",
      "text/plain": [
       "<Figure size 1200x500 with 2 Axes>"
      ]
     },
     "metadata": {},
     "output_type": "display_data"
    },
    {
     "name": "stdout",
     "output_type": "stream",
     "text": [
      "Cross-Validation Summary:\n",
      "Final Hit Rate: 0.7754 ± 0.0058\n",
      "Final AUC: 0.9833 ± 0.0008\n"
     ]
    }
   ],
   "source": [
    "def k_fold_cross_validation_recommender(df, num_users, num_items):\n",
    "    kfold = KFold(n_splits=4, shuffle=True, random_state=42) \n",
    "    fold_results = {\n",
    "        'hit_rates': [],\n",
    "        'aucs': [],\n",
    "        'losses': []\n",
    "    }\n",
    "    for fold, (train_index, test_index) in enumerate(kfold.split(df), 1):\n",
    "        print(f\"FOLD {fold}\") \n",
    "        \n",
    "        train_data = df.iloc[train_index]\n",
    "        val_data = df.iloc[test_index]\n",
    "        users_train, items_train, ratings_train, candidates = load_data(train_data, num_users, num_items, feedback=\"explicit\")\n",
    "        users_val, items_val, ratings_val, val_iter = load_data(val_data, num_users, num_items, feedback=\"explicit\")\n",
    "        train_dataset = PRDataset(users_train, items_train, candidates, num_items)\n",
    "        train_iter = DataLoader(\n",
    "            train_dataset, \n",
    "            batch_size=batch_size, \n",
    "            shuffle=True, \n",
    "            num_workers=os.cpu_count(), \n",
    "        )\n",
    "        net = NeuMF(num_factors= 2048, num_users=num_users, num_items=num_items, nums_hiddens=[2048, 1024, 512, 256, 128, 64, 32, 16])\n",
    "        net = net.to(device)\n",
    "        \n",
    "        lr = 5e-3\n",
    "        num_epochs = 20\n",
    "        weight_decay = 1e-4 #5e-5\n",
    "        optimizer = optim.Adam(net.parameters(), lr=lr, weight_decay=weight_decay)\n",
    "        # scheduler = optim.lr_scheduler.StepLR(optimizer, step_size=10, gamma=0.1)\n",
    "\n",
    "        class BPRLoss(nn.Module):\n",
    "            def __init__(self):\n",
    "                super(BPRLoss, self).__init__()\n",
    "\n",
    "            def forward(self, pos_preds, neg_preds):\n",
    "                return -torch.mean(torch.log(torch.sigmoid(pos_preds - neg_preds)))\n",
    "\n",
    "        loss_fn = BPRLoss()\n",
    "                \n",
    "        top_k = 5      \n",
    "        hit, auc, loss = train_ranking(\n",
    "            net=net,\n",
    "            train_iter=train_iter,\n",
    "            test_iter=val_iter,\n",
    "            loss_fn=loss_fn,\n",
    "            optimizer=optimizer,\n",
    "            test_seq_iter=None,\n",
    "            num_users=num_users,\n",
    "            num_items=num_items,\n",
    "            num_epochs=num_epochs,\n",
    "            device=device,\n",
    "            candidates=candidates,\n",
    "            batch_size=batch_size,\n",
    "            top_k=top_k,\n",
    "            evaluator=evaluate_ranking,\n",
    "        )\n",
    "        \n",
    "        fold_results['hit_rates'].append(hit)\n",
    "        fold_results['aucs'].append(auc)\n",
    "        fold_results['losses'].append(loss)\n",
    "    \n",
    "    return fold_results\n",
    "    \n",
    "def analyze_cv_results(fold_results):\n",
    "    avg_hit_rates = np.mean(fold_results['hit_rates'], axis=0)\n",
    "    std_hit_rates = np.std(fold_results['hit_rates'], axis=0)\n",
    "    \n",
    "    avg_aucs = np.mean(fold_results['aucs'], axis=0)\n",
    "    std_aucs = np.std(fold_results['aucs'], axis=0)   \n",
    "\n",
    "    plt.figure(figsize=(12, 5))\n",
    "    \n",
    "    plt.subplot(1, 2, 1)\n",
    "    plt.plot(avg_hit_rates, label='Avg Hit Rate')\n",
    "    plt.fill_between(\n",
    "        range(len(avg_hit_rates)), \n",
    "        avg_hit_rates - std_hit_rates, \n",
    "        avg_hit_rates + std_hit_rates, \n",
    "        alpha=0.3\n",
    "    )\n",
    "    plt.title('Cross-Validation: Hit Rates')\n",
    "    plt.xlabel('Epoch')\n",
    "    plt.ylabel('Hit Rate')\n",
    "    plt.legend()\n",
    "    \n",
    "    plt.subplot(1, 2, 2)\n",
    "    plt.plot(avg_aucs, label='Avg AUC', linestyle='--')\n",
    "    plt.fill_between(\n",
    "        range(len(avg_aucs)), \n",
    "        avg_aucs - std_aucs, \n",
    "        avg_aucs + std_aucs, \n",
    "        alpha=0.3\n",
    "    )\n",
    "    plt.title('Cross-Validation: AUC')\n",
    "    plt.xlabel('Epoch')\n",
    "    plt.ylabel('AUC')\n",
    "    plt.legend()\n",
    "    \n",
    "    plt.tight_layout()\n",
    "    plt.show()\n",
    "    \n",
    "    print(\"Cross-Validation Summary:\")\n",
    "    print(f\"Final Hit Rate: {avg_hit_rates[-1]:.4f} ± {std_hit_rates[-1]:.4f}\")\n",
    "    print(f\"Final AUC: {avg_aucs[-1]:.4f} ± {std_aucs[-1]:.4f}\")\n",
    "\n",
    "df, num_users, num_items, item_original = read_data()\n",
    "cv_results = k_fold_cross_validation_recommender(\n",
    "    df, \n",
    "    num_users, \n",
    "    num_items, \n",
    ")\n",
    "analyze_cv_results(cv_results)"
   ]
  },
  {
   "cell_type": "markdown",
   "metadata": {},
   "source": [
    "## END"
   ]
  },
  {
   "cell_type": "code",
   "execution_count": 16,
   "metadata": {
    "execution": {
     "iopub.execute_input": "2024-12-19T07:23:55.661624Z",
     "iopub.status.busy": "2024-12-19T07:23:55.661341Z",
     "iopub.status.idle": "2024-12-19T07:23:55.666418Z",
     "shell.execute_reply": "2024-12-19T07:23:55.665561Z",
     "shell.execute_reply.started": "2024-12-19T07:23:55.661597Z"
    },
    "trusted": true
   },
   "outputs": [],
   "source": [
    "# def predict_single_item(net, user_id, item_id, device, item_original=None):\n",
    "#     \"\"\"Generate prediction for a single user-item pair.\"\"\"\n",
    "#     net.eval()\n",
    "    \n",
    "#     user_tensor = torch.tensor([user_id], device=device)\n",
    "#     item_tensor = torch.tensor([item_id], device=device)\n",
    "    \n",
    "#     with torch.no_grad():\n",
    "#         prediction = net(user_tensor, item_tensor)\n",
    "#         raw_score = float(prediction.cpu().numpy()[0][0])\n",
    "        \n",
    "#         # Normalize score to [0,1] range\n",
    "#         normalized_score = 1 / (1 + np.exp(-raw_score))\n",
    "    \n",
    "#     item_name = item_original[item_id] if item_original is not None else None\n",
    "#     return normalized_score, item_name, raw_score\n",
    "\n",
    "# def analyze_single_prediction(net, user_id, item_id, candidates, item_original, device):\n",
    "#     \"\"\"Analyze and display prediction for a single user-item pair.\"\"\"\n",
    "#     user_items = set(candidates[user_id])\n",
    "#     has_interaction = item_id in user_items\n",
    "    \n",
    "#     normalized_score, item_name, raw_score = predict_single_item(\n",
    "#         net, user_id, item_id, device, item_original\n",
    "#     )\n",
    "    \n",
    "#     print(f\"\\n{'='*20} Single Item Prediction {'='*20}\")\n",
    "#     print(f\"User ID: {user_id}\")\n",
    "#     print(f\"Item: {item_name} (ID: {item_id})\")\n",
    "#     print(f\"Raw Prediction Score: {raw_score:.4f}\")\n",
    "#     print(f\"Normalized Score: {normalized_score:.4f}\")\n",
    "#     print(f\"Previous Interaction: {'Yes' if has_interaction else 'No'}\")\n",
    "    \n",
    "#     return normalized_score, raw_score, has_interaction\n"
   ]
  },
  {
   "cell_type": "code",
   "execution_count": 17,
   "metadata": {
    "execution": {
     "iopub.execute_input": "2024-12-19T07:23:55.667635Z",
     "iopub.status.busy": "2024-12-19T07:23:55.667396Z",
     "iopub.status.idle": "2024-12-19T07:23:55.686586Z",
     "shell.execute_reply": "2024-12-19T07:23:55.685927Z",
     "shell.execute_reply.started": "2024-12-19T07:23:55.667613Z"
    },
    "trusted": true
   },
   "outputs": [],
   "source": [
    "# from sklearn.model_selection import KFold\n",
    "# kfold = KFold(n_splits=5, shuffle=True, random_state=42) \n",
    "# for fold, (train_index, test_index) in enumerate(kfold.split(df), 1):\n",
    "#     print(fold, len(train_index), len(test_index))"
   ]
  },
  {
   "cell_type": "code",
   "execution_count": 18,
   "metadata": {
    "execution": {
     "iopub.execute_input": "2024-12-19T07:23:55.687962Z",
     "iopub.status.busy": "2024-12-19T07:23:55.687621Z",
     "iopub.status.idle": "2024-12-19T07:23:55.701153Z",
     "shell.execute_reply": "2024-12-19T07:23:55.700480Z",
     "shell.execute_reply.started": "2024-12-19T07:23:55.687927Z"
    },
    "trusted": true
   },
   "outputs": [],
   "source": [
    "# param_grid = {\n",
    "#     'learning_rate': [0.001, 0.01, 0.1],\n",
    "#     'hidden_size': [16, 32, 64],\n",
    "#     'batch_size': [32, 64],\n",
    "#     'num_epochs': [10, 20]\n",
    "# }\n",
    "\n",
    "# grid = ParameterGrid(param_grid)\n",
    "# results = []\n",
    "# for params in grid:\n",
    "#     _, _, loss = train_ranking (\n",
    "#         net=net,\n",
    "#         train_iter=train_iter,\n",
    "#         test_iter=test_iter,\n",
    "#         loss_fn=loss_fn,\n",
    "#         optimizer=optimizer,\n",
    "#         test_seq_iter=None,\n",
    "#         num_users=num_users,\n",
    "#         num_items=num_items,\n",
    "#         num_epochs=num_epochs,\n",
    "#         device=device,\n",
    "#         candidates=candidates,\n",
    "#         batch_size=batch_size,\n",
    "#         top_k=top_k,\n",
    "#         evaluator=evaluate_ranking,\n",
    "#     )\n",
    "#     results.append((params, loss))\n",
    "#     print(f\"Params: {params}, Loss: {loss:.4f}\")\n",
    "\n",
    "# # Find the best parameters\n",
    "# best_params = max(results, key=lambda x: x[2])\n",
    "# print(\"Best Parameters:\", best_params[0])\n",
    "# print(\"Best Validation Accuracy:\", best_params[2])"
   ]
  },
  {
   "cell_type": "code",
   "execution_count": 19,
   "metadata": {
    "execution": {
     "iopub.execute_input": "2024-12-19T07:23:55.702553Z",
     "iopub.status.busy": "2024-12-19T07:23:55.702233Z",
     "iopub.status.idle": "2024-12-19T07:23:55.714202Z",
     "shell.execute_reply": "2024-12-19T07:23:55.713509Z",
     "shell.execute_reply.started": "2024-12-19T07:23:55.702518Z"
    },
    "trusted": true
   },
   "outputs": [],
   "source": [
    "# best_params = max(results, key=lambda x: x[1])\n",
    "# best_params"
   ]
  },
  {
   "cell_type": "code",
   "execution_count": 20,
   "metadata": {
    "execution": {
     "iopub.execute_input": "2024-12-19T07:23:55.715513Z",
     "iopub.status.busy": "2024-12-19T07:23:55.715235Z",
     "iopub.status.idle": "2024-12-19T07:23:55.729518Z",
     "shell.execute_reply": "2024-12-19T07:23:55.728737Z",
     "shell.execute_reply.started": "2024-12-19T07:23:55.715489Z"
    },
    "trusted": true
   },
   "outputs": [
    {
     "data": {
      "text/plain": [
       "[18, 20, 30, 32, 9, 3, 17, 38, 8, 11, 14]"
      ]
     },
     "execution_count": 20,
     "metadata": {},
     "output_type": "execute_result"
    }
   ],
   "source": [
    "# def hit_and_auc(rankedlist, test_matrix, k):\n",
    "#     hits_k = [(idx, val) for idx, val in enumerate(rankedlist[:k])\n",
    "#               if val in set(test_matrix)]\n",
    "#     hits_all = [(idx, val) for idx, val in enumerate(rankedlist)\n",
    "#                 if val in set(test_matrix)]\n",
    "#     print(f'hits_k {hits_k}')\n",
    "#     print(f'hits_all {hits_all}')\n",
    "#     max = len(rankedlist) - 1\n",
    "#     auc = 1.0 * (max - hits_all[0][0]) / max if len(hits_all) > 0 else 0\n",
    "#     return len(hits_k) / k, auc\n",
    "    \n",
    "    \n",
    "# ranked_list, ranked_items, hit_rate, auc = {}, {}, [], []\n",
    "# all_items = set([i for i in range(num_items)])\n",
    "# for u in range(num_users):\n",
    "#     neg_items = list(all_items - set(candidates[int(u)]))    \n",
    "#     user_ids = [u] * len(neg_items)\n",
    "#     item_ids = neg_items\n",
    "#     x = [torch.tensor(user_ids, device=device), torch.tensor(item_ids, device=device)]\n",
    "#     test_data_iter = torch.utils.data.DataLoader(\n",
    "#         dataset=list(zip(*x)), batch_size=batch_size, shuffle=False\n",
    "#     )\n",
    "#     scores = []\n",
    "#     for batch in test_data_iter:\n",
    "#         user_batch, item_batch = batch[0].to(device), batch[1].to(device)\n",
    "#         batch_scores = net(user_batch, item_batch).cpu().detach().numpy()\n",
    "#         scores.extend(batch_scores)\n",
    "#     item_scores = list(zip(item_ids, scores))\n",
    "#     ranked_list[u] = sorted(item_scores, key=lambda t: t[1], reverse=True)\n",
    "#     ranked_items[u] = [r[0] for r in ranked_list[u]]\n",
    "#     # print(f'ranked_list {ranked_list}')\n",
    "#     print(f'ranked_item {ranked_items[u]} len {len(ranked_items[u])}')\n",
    "#     print(f'test_iter {test_iter[u]}')\n",
    "#     hit, auc_val = hit_and_auc(ranked_items[u], test_iter[u], 5)\n",
    "#     print(hit, auc_val)\n",
    "#     hit_rate.append(hit)\n",
    "#     auc.append(auc_val)\n",
    "#     print(hit_rate)\n",
    "#     print(np.mean(np.array(hit_rate)))\n",
    "#     break\n",
    "\n",
    "# ranked_items[u] = [r[0] for r in ranked_list[u]]\n",
    "# print(ranked_items[u])\n",
    "# print(test_iter[0])\n",
    "# list(candidates[0])\n",
    "# train_data[train_data['User'] == 0]\n",
    "\n",
    "# hits_k = [(idx, val) for idx, val in enumerate(ranked_items[1][:5])\n",
    "#               if val in set(test_iter)]\n",
    "# print(hits_k)\n",
    "# correct_position_count = 0\n",
    "# for idx, val in hits_k:\n",
    "#     print(val)\n",
    "#     if ranked_items[1][idx] == val:\n",
    "#         correct_position_count += 1\n",
    "        \n",
    "# correct_position_count\n",
    "\n",
    "# def load_data(data, num_users, num_items, feedback='explicit'):\n",
    "#     users, items, scores = [], [], []\n",
    "#     inter = np.zeros((num_users, num_items)) if feedback == 'explicit' else {}\n",
    "#     for line in data.itertuples():\n",
    "#         user_index, item_index = int(line[1] - 1), int(line[2] - 1)\n",
    "#         score = int(line[3]) if feedback == 'explicit' else 1\n",
    "#         users.append(user_index)\n",
    "#         items.append(item_index)\n",
    "#         scores.append(score)\n",
    "#         if feedback == 'implicit':\n",
    "#             inter.setdefault(user_index, []).append(item_index)\n",
    "#         else:\n",
    "#             inter[user_index, item_index] = score\n",
    "#     return users, items, scores, inter\n",
    "    \n",
    "# users_train, items_train, ratings_train, candidates = load_data(train_data, num_users, num_items, feedback=\"explicit\")\n",
    "# train_dataset = PRDataset(users_train, items_train, candidates, num_items)\n",
    "# train_iter = DataLoader(\n",
    "#     train_dataset, \n",
    "#     batch_size=batch_size, \n",
    "#     shuffle=True, \n",
    "#     num_workers=os.cpu_count(), \n",
    "# )\n",
    "\n",
    "\n",
    "# net = NeuMF(num_factors=10, num_users=num_users, num_items=num_items, nums_hiddens=[32, 16, 4])\n",
    "# print(net)\n",
    "# all_items = set([i for i in range(num_items)])\n",
    "# for u in range(1):\n",
    "#     x, user_ids, item_ids, scores = [], [], [], []\n",
    "#     neg_items = list(all_items - set(candidates[int(u)]))    \n",
    "#     [item_ids.append(i) for i in neg_items]\n",
    "#     [user_ids.append(u) for _ in neg_items]\n",
    "#     x.extend([np.array(user_ids)])\n",
    "#     x.extend([np.array(item_ids)])\n",
    "#     test_data_iter = torch.utils.data.DataLoader(\n",
    "#             dataset=list(zip(*x)), batch_size=64, shuffle=False)\n",
    "#     for batch in test_data_iter:\n",
    "#         user_batch, item_batch = batch[0].to(device), batch[1].to(device)\n",
    "#         print(user_batch, item_batch)\n",
    "#         batch_scores = net(user_batch, item_batch).cpu().detach().numpy()\n",
    "#         scores.extend(batch_scores)\n",
    "#     print(scores)\n",
    "#     break\n",
    "# for epoch in tqdm(range(num_epochs)):\n",
    "#     total_loss, num_examples, num_batches = 0.0, 0, 0\n",
    "#     net.train()\n",
    "#     for i, values in enumerate(train_iter):\n",
    "#         print(input_data[0].size(0))\n",
    "#         input_data = [v.to(device) for v in values]\n",
    "#         optimizer.zero_grad() \n",
    "#         print(input_data[1], input_data[2])\n",
    "#         p_pos = net(input_data[0], input_data[1])  \n",
    "#         p_neg = net(input_data[0], input_data[2])  \n",
    "#         loss = loss_fn(p_pos, p_neg)\n",
    "#         print(loss)\n",
    "#         loss.backward()\n",
    "#         optimizer.step()\n",
    "#         total_loss += loss.item() * input_data[0].size(0)\n",
    "#         print(loss, total_loss)\n",
    "#         num_examples += input_data[0].size(0)\n",
    "#         num_batches += 1\n",
    "#         i += 1\n",
    "#         if i == 5:\n",
    "#             break\n",
    "#     break\n",
    "test_iter[568]"
   ]
  },
  {
   "cell_type": "code",
   "execution_count": 21,
   "metadata": {
    "execution": {
     "iopub.execute_input": "2024-12-19T07:23:55.730838Z",
     "iopub.status.busy": "2024-12-19T07:23:55.730507Z",
     "iopub.status.idle": "2024-12-19T07:23:55.743446Z",
     "shell.execute_reply": "2024-12-19T07:23:55.742737Z",
     "shell.execute_reply.started": "2024-12-19T07:23:55.730804Z"
    },
    "trusted": true
   },
   "outputs": [
    {
     "data": {
      "text/plain": [
       "[24,\n",
       " 7,\n",
       " 35,\n",
       " 48,\n",
       " 19,\n",
       " 4,\n",
       " 36,\n",
       " 10,\n",
       " 41,\n",
       " 42,\n",
       " 46,\n",
       " 23,\n",
       " 25,\n",
       " 43,\n",
       " 1,\n",
       " 6,\n",
       " 40,\n",
       " 47,\n",
       " 27,\n",
       " 50,\n",
       " 21,\n",
       " 0,\n",
       " 5,\n",
       " 37,\n",
       " 49,\n",
       " 34,\n",
       " 39,\n",
       " 44,\n",
       " 2,\n",
       " 26,\n",
       " 16,\n",
       " 31,\n",
       " 33]"
      ]
     },
     "execution_count": 21,
     "metadata": {},
     "output_type": "execute_result"
    }
   ],
   "source": [
    "candidates[568]"
   ]
  },
  {
   "cell_type": "code",
   "execution_count": null,
   "metadata": {
    "trusted": true
   },
   "outputs": [],
   "source": []
  }
 ],
 "metadata": {
  "kaggle": {
   "accelerator": "nvidiaTeslaT4",
   "dataSources": [
    {
     "datasetId": 5854138,
     "sourceId": 10039932,
     "sourceType": "datasetVersion"
    }
   ],
   "dockerImageVersionId": 30787,
   "isGpuEnabled": true,
   "isInternetEnabled": true,
   "language": "python",
   "sourceType": "notebook"
  },
  "kernelspec": {
   "display_name": "Python 3",
   "language": "python",
   "name": "python3"
  },
  "language_info": {
   "codemirror_mode": {
    "name": "ipython",
    "version": 3
   },
   "file_extension": ".py",
   "mimetype": "text/x-python",
   "name": "python",
   "nbconvert_exporter": "python",
   "pygments_lexer": "ipython3",
   "version": "3.10.14"
  }
 },
 "nbformat": 4,
 "nbformat_minor": 4
}
